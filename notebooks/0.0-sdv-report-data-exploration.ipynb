{
 "cells": [
  {
   "cell_type": "code",
   "execution_count": 1,
   "metadata": {},
   "outputs": [],
   "source": [
    "import matplotlib.pyplot as plt # For data viz\n",
    "import pandas as pd\n",
    "import numpy as np"
   ]
  },
  {
   "cell_type": "code",
   "execution_count": 2,
   "metadata": {},
   "outputs": [
    {
     "name": "stderr",
     "output_type": "stream",
     "text": [
      "/home/sebastien.devos/.cache/pypoetry/virtualenvs/kaggle-house-prices-competition-MWQ3i53_-py3.10/lib/python3.10/site-packages/tqdm/auto.py:21: TqdmWarning: IProgress not found. Please update jupyter and ipywidgets. See https://ipywidgets.readthedocs.io/en/stable/user_install.html\n",
      "  from .autonotebook import tqdm as notebook_tqdm\n"
     ]
    }
   ],
   "source": [
    "from ydata_profiling import ProfileReport"
   ]
  },
  {
   "cell_type": "code",
   "execution_count": 3,
   "metadata": {},
   "outputs": [
    {
     "name": "stderr",
     "output_type": "stream",
     "text": [
      "Summarize dataset:  94%|█████████▍| 83/88 [00:02<00:00, 105.62it/s, Calculate auto correlation]    /home/sebastien.devos/.cache/pypoetry/virtualenvs/kaggle-house-prices-competition-MWQ3i53_-py3.10/lib/python3.10/site-packages/ydata_profiling/model/correlations.py:66: UserWarning: There was an attempt to calculate the auto correlation, but this failed.\n",
      "To hide this warning, disable the calculation\n",
      "(using `df.profile_report(correlations={\"auto\": {\"calculate\": False}})`\n",
      "If this is problematic for your use case, please report this as an issue:\n",
      "https://github.com/ydataai/ydata-profiling/issues\n",
      "(include the error message: 'could not convert string to float: 'Grvl'')\n",
      "  warnings.warn(\n",
      "Summarize dataset:  99%|█████████▉| 986/991 [01:08<00:00,  6.28it/s, Missing diagram heatmap]             /home/sebastien.devos/.cache/pypoetry/virtualenvs/kaggle-house-prices-competition-MWQ3i53_-py3.10/lib/python3.10/site-packages/seaborn/matrix.py:260: FutureWarning: Format strings passed to MaskedConstant are ignored, but in future may error or produce different behavior\n",
      "  annotation = (\"{:\" + self.fmt + \"}\").format(val)\n",
      "/home/sebastien.devos/.cache/pypoetry/virtualenvs/kaggle-house-prices-competition-MWQ3i53_-py3.10/lib/python3.10/site-packages/ydata_profiling/model/missing.py:78: UserWarning: There was an attempt to generate the Heatmap missing values diagrams, but this failed.\n",
      "To hide this warning, disable the calculation\n",
      "(using `df.profile_report(missing_diagrams={\"Heatmap\": False}`)\n",
      "If this is problematic for your use case, please report this as an issue:\n",
      "https://github.com/ydataai/ydata-profiling/issues\n",
      "(include the error message: 'could not convert string to float: '--'')\n",
      "  warnings.warn(\n",
      "Summarize dataset: 100%|██████████| 991/991 [01:08<00:00, 14.44it/s, Completed]               \n",
      "Generate report structure: 100%|██████████| 1/1 [00:13<00:00, 13.88s/it]\n",
      "Render HTML: 100%|██████████| 1/1 [00:14<00:00, 14.32s/it]\n",
      "Export report to file: 100%|██████████| 1/1 [00:00<00:00, 13.64it/s]\n"
     ]
    }
   ],
   "source": [
    "df = pd.read_csv(\"../data/raw/train.csv\")\n",
    "profile = ProfileReport(df, title=\"house_prices_data_analysis\")\n",
    "profile.to_file(\"../reports/pd_profiling_report.html\")"
   ]
  },
  {
   "cell_type": "code",
   "execution_count": null,
   "metadata": {},
   "outputs": [],
   "source": []
  }
 ],
 "metadata": {
  "kernelspec": {
   "display_name": "kaggle-house-prices-competition-MWQ3i53_-py3.11",
   "language": "python",
   "name": "python3"
  },
  "language_info": {
   "codemirror_mode": {
    "name": "ipython",
    "version": 3
   },
   "file_extension": ".py",
   "mimetype": "text/x-python",
   "name": "python",
   "nbconvert_exporter": "python",
   "pygments_lexer": "ipython3",
   "version": "3.10.13"
  }
 },
 "nbformat": 4,
 "nbformat_minor": 2
}
